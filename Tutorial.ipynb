{
 "cells": [
  {
   "cell_type": "markdown",
   "id": "4887c2f2-8452-4ba9-9896-be588b224184",
   "metadata": {
    "tags": []
   },
   "source": [
    "### First steps\n",
    "\n",
    "1. Install alpaca package on the terminal through \n",
    "\n",
    "        pip install alpaca_proteomics\n",
    "\n",
    "\n",
    "2. Import the package\n"
   ]
  },
  {
   "cell_type": "code",
   "execution_count": 5,
   "id": "3fe0552d-09b1-41a6-b7f7-d7406bf162f4",
   "metadata": {},
   "outputs": [],
   "source": [
    "from alpaca_proteomics import alpaca"
   ]
  },
  {
   "cell_type": "markdown",
   "id": "ec000c7a-b2de-41c2-ac35-4820952e5828",
   "metadata": {},
   "source": [
    "### Data import and formatting\n",
    "\n",
    "Alpaca works with unprocessed proteomics datasets from MaxQuant. The package takes the file `proteinGroups.txt`, which can be found in the combined folder of MaxQuant output. "
   ]
  },
  {
   "cell_type": "code",
   "execution_count": null,
   "id": "5f216f04-a616-4cbf-8597-832c527cd17c",
   "metadata": {},
   "outputs": [],
   "source": [
    "file = 'proteinGroups.txt'\n",
    "\n",
    "# Data importation\n",
    "\n",
    "df = alpaca.eats(file) #returns a dataframe with the unprocessed MaxQuant output\n",
    "\n",
    "# Data pre-processing\n",
    "\n",
    "clean_df = alpaca.spits(df)"
   ]
  },
  {
   "cell_type": "markdown",
   "id": "2bc9e60f-c06b-4f04-85fb-09ad8b01aa1a",
   "metadata": {
    "tags": []
   },
   "source": [
    "### Anchor protein quantification\n",
    "\n",
    "Absolute quantification using Alpaca is optimised for label-free methods, relying on the addition of a set of anchor proteins at a know amount. \n",
    "\n",
    "**Table 1.** Format for the file describing the stock solution of anchor proteins.\n",
    "\n",
    "| Accession  | MW (kDa) | Amount (fmol) |\n",
    "|------------|---------:|--------------:|\n",
    "| P02768     |   10.1   |         50    |\n",
    "| Q9Y6K9     |   65.8   |        100    |\n",
    "| P05067     |   32.5   |         25    |\n",
    "| O75475     |   48.2   |         75    |\n",
    "| Q00653     |   20.9   |         30    |"
   ]
  },
  {
   "cell_type": "code",
   "execution_count": 6,
   "id": "5c95c50d-7268-4a91-b5f5-3703fd20a9ad",
   "metadata": {},
   "outputs": [
    {
     "ename": "NameError",
     "evalue": "name 'clean_df' is not defined",
     "output_type": "error",
     "traceback": [
      "\u001b[0;31m---------------------------------------------------------------------------\u001b[0m",
      "\u001b[0;31mNameError\u001b[0m                                 Traceback (most recent call last)",
      "Input \u001b[0;32mIn [6]\u001b[0m, in \u001b[0;36m<cell line: 1>\u001b[0;34m()\u001b[0m\n\u001b[0;32m----> 1\u001b[0m quant_df, standards \u001b[38;5;241m=\u001b[39m alpaca\u001b[38;5;241m.\u001b[39mcensus(\u001b[43mclean_df\u001b[49m)\n",
      "\u001b[0;31mNameError\u001b[0m: name 'clean_df' is not defined"
     ]
    }
   ],
   "source": [
    "quant_df, standards = alpaca.census(clean_df)"
   ]
  },
  {
   "cell_type": "markdown",
   "id": "8c01b745-27b6-4292-8475-c017dfa0162f",
   "metadata": {},
   "source": [
    "`alpaca.census()` adds a column to the processed data with the calculated mol amounts present in the measured samples."
   ]
  },
  {
   "cell_type": "markdown",
   "id": "c627d235-904b-459a-950e-775c4f71208f",
   "metadata": {
    "tags": []
   },
   "source": [
    "### Experimental details\n",
    "\n",
    "| Accession | MW (kDa) | StdConcentration (µg/µl) |\n",
    "|-----------|---------:|-------------------------:|\n",
    "| P02768    |     10.1 |                     2.5  |\n",
    "| Q9Y6K9    |     65.8 |                     0.8  |\n",
    "| P05067    |     32.5 |                     1.2  |\n",
    "| O75475    |     48.2 |                     3.0  |\n",
    "| Q00653    |     20.9 |                     2.0  | \n",
    "\n",
    "This module was designed to allow researchers to connect sample preparation to the quantified numbers"
   ]
  },
  {
   "cell_type": "code",
   "execution_count": null,
   "id": "21639f6c-e61f-42b9-ac41-077cec9484ec",
   "metadata": {},
   "outputs": [],
   "source": [
    "experiment = 'experimentalDetails.txt'\n",
    "\n",
    "sample_prep = alpaca.scientist(experiment)"
   ]
  },
  {
   "cell_type": "markdown",
   "id": "664a7891-9c48-4004-9369-fa12c33aea32",
   "metadata": {},
   "source": [
    "Experimental details (in our example `experimentalDetails.txt`) can be added as txt, csv or xlsx formats. This file can include the columns described in the following table:\n",
    "\n",
    "**Table 2.** Experimental parameters table. This example covers all possible columns. Nonetheless, not all columns are necessary. For example, Enrichment columns (EnrichmentDirection, StdDilution, StdVolume) are only used if any enrichment step was performed. More information about this is described in the Enrichment section.\n",
    "\n",
    "| Condition   | SampleVolume | ProteinConcentration | AmountMS | CellsPerML | TotalCultureVolume | ProteinSRM | fmolSRM | Enrichment | EnrichmentDirection | StdDilution | StdVolume |\n",
    "|-------------|--------------|----------------------|----------|------------|--------------------|------------|---------|------------|---------------------|-------------|-----------|\n",
    "| Cond1_t0    | 2.31         | 2.99                 | 9.67     | 4.54       | 7.54               | TNAMLN     | 4.44    | False      | Down                | 3.96        | 1.22      |\n",
    "| Cond2_t1    | 2.50         | 0.20                 | 4.10     | 5.13       | 2.62               | AJFVYC     | 4.85    | True       | Down                | 2.43        | 1.51      |\n",
    "| Cond3_t2    | 7.38         | 6.56                 | 2.77     | 3.66       | 3.80               | BYEKSC     | 9.71    | True       | Down                | 5.71        | 8.53      |"
   ]
  },
  {
   "cell_type": "markdown",
   "id": "bccb2d19-2cd1-429b-a049-c6a1d3a15793",
   "metadata": {
    "tags": []
   },
   "source": [
    "### Proteome fraction enrichment (Optional)\n",
    "\n",
    "In case the study focuses in a fraction of the proteome (e.g., membrane proteome or exoproteome), it is likely that during the sample preparation and enrichment step was performed. This module allows to translate the enrichment step to the data based on how the samples were prepared. \n",
    "\n",
    "`Enrichment factors` are calculated based on the fmol quantified in the enriched sample to the raw or non-enriched sample:\n",
    "\n",
    "$$\n",
    "ER = \\frac{fmol_{enriched}}{fmol_{non-enriched}}\n",
    "$$\n",
    "\n",
    "For that purpose, there are 2 strategies that are currently covered under our pipeline:\n",
    "\n",
    "**1. The quantification of specific proteins of the analysed fraction on both before and after the enrichment step using Targeted MS (SRM).** \n",
    "\n",
    "This strategy was described on [Antelo-Varela et al. 2020](https://pubmed.ncbi.nlm.nih.gov/31424929/) and relies on using external protocols (e.g., Skyline) to quantify the enrichment step. Enrichment factors can be added to the parameters table under the column `Enrichment_Factor`. Additionally, the SRM quantified amount for a given protein can be added on the columns `ProteinSRM` (Accession of the quantified protein) and `fmolSRM` (Quantified fmol in the analysed proteome fraction).\n",
    "\n",
    "**2. The addition of whole proteins at known concentration before performing the enrichment step.**\n",
    "\n",
    "This approach was described on [Ferrero-Bordera et al. 2023]() and requires of a protein mixture at known concentration added before the enrichment step. Used standards have to be formatted as specified in the table below:\n",
    "\n",
    "**Table 3.** Enrichment standards\n",
    "\n",
    "| Accession | MW (kDa) | StdConcentration (µg/µl) |\n",
    "|-----------|---------:|-------------------------:|\n",
    "| P02768    |     10.1 |                     2.5  |\n",
    "| Q9Y6K9    |     65.8 |                     0.8  |\n",
    "| P05067    |     32.5 |                     1.2  |\n",
    "| O75475    |     48.2 |                     3.0  |\n",
    "| Q00653    |     20.9 |                     2.0  |\n",
    "\n",
    "Additionally, parameters table should contain the Enrichment columns (Enrichment, EnrichmentDirection, StdDilution, StdVolume).\n",
    "\n",
    "    - Enrichment (True or False): True for those samples that have been enriched.\n",
    "    - EnrichmentDirection ('UP' or 'DOWN'): `UP` if after the enrichment is more represented \n",
    "    - StdDilution: Dilution factor of the\n",
    "    - StdVolume:\n"
   ]
  },
  {
   "cell_type": "code",
   "execution_count": null,
   "id": "f8abf2cd-fdc4-4953-b8bf-5c8bf77ac3c4",
   "metadata": {},
   "outputs": [],
   "source": [
    "standards = 'standards_file.txt' # Detailed in Table 3. Accepts .txt, .csv and .xlxs\n",
    "\n",
    "sample_prep_updated = alpaca.gathers(quant_df, standards, sample_prep)"
   ]
  },
  {
   "cell_type": "markdown",
   "id": "e4538b7c-79e8-4b63-9431-ab988f87094a",
   "metadata": {},
   "source": [
    "### Data integration\n",
    "\n",
    "This module connects the protein amounts quantified in the sample and the sample preparation. Thus, allowing to calculate protein amounts to the original state (e.g. bacterial culture, raw culture supernatant). This step brings deeper insights to the user based on the known experimental parameters, yielding high valuable data (e.g., molecules per cell, fmol / µmol of protein extract)"
   ]
  },
  {
   "cell_type": "code",
   "execution_count": null,
   "id": "c25ca4ac-519e-42f1-901f-a3bf3febff5d",
   "metadata": {},
   "outputs": [],
   "source": [
    "alpaca.wool(quant_df, sample_prep_updated)"
   ]
  }
 ],
 "metadata": {
  "kernelspec": {
   "display_name": "Python 3 (ipykernel)",
   "language": "python",
   "name": "python3"
  },
  "language_info": {
   "codemirror_mode": {
    "name": "ipython",
    "version": 3
   },
   "file_extension": ".py",
   "mimetype": "text/x-python",
   "name": "python",
   "nbconvert_exporter": "python",
   "pygments_lexer": "ipython3",
   "version": "3.9.12"
  }
 },
 "nbformat": 4,
 "nbformat_minor": 5
}
