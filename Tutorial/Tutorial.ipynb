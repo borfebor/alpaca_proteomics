{
 "cells": [
  {
   "cell_type": "markdown",
   "id": "4887c2f2-8452-4ba9-9896-be588b224184",
   "metadata": {
    "tags": []
   },
   "source": [
    "### First steps\n",
    "\n",
    "1. Install alpaca package on the terminal through \n",
    "\n",
    "        pip install alpaca-proteomics\n",
    "        \n",
    "\n",
    "\n",
    "2. Import the package\n"
   ]
  },
  {
   "cell_type": "code",
   "execution_count": 12,
   "id": "3fe0552d-09b1-41a6-b7f7-d7406bf162f4",
   "metadata": {},
   "outputs": [],
   "source": [
    "from alpaca_proteomics import alpaca"
   ]
  },
  {
   "cell_type": "markdown",
   "id": "ec000c7a-b2de-41c2-ac35-4820952e5828",
   "metadata": {},
   "source": [
    "### Data import and formatting\n",
    "\n",
    "Alpaca works with unprocessed proteomics datasets from MaxQuant. The package takes the file `proteinGroups.txt`, which can be found in the combined folder of MaxQuant output. This dataset is from the exoproteome data published in [Ferrero-Bordera et al. 2024. Microbiology Spectrum](https://doi.org/10.1128/spectrum.02616-23)."
   ]
  },
  {
   "cell_type": "code",
   "execution_count": 2,
   "id": "5f216f04-a616-4cbf-8597-832c527cd17c",
   "metadata": {},
   "outputs": [
    {
     "name": "stdout",
     "output_type": "stream",
     "text": [
      "Items marked on ['Only identified by site', 'Reverse', 'Potential contaminant'] have been removed from the dataset.\n",
      "Dataset formated for further analysis and visualisation.\n"
     ]
    },
    {
     "data": {
      "text/html": [
       "<div>\n",
       "<style scoped>\n",
       "    .dataframe tbody tr th:only-of-type {\n",
       "        vertical-align: middle;\n",
       "    }\n",
       "\n",
       "    .dataframe tbody tr th {\n",
       "        vertical-align: top;\n",
       "    }\n",
       "\n",
       "    .dataframe thead th {\n",
       "        text-align: right;\n",
       "    }\n",
       "</style>\n",
       "<table border=\"1\" class=\"dataframe\">\n",
       "  <thead>\n",
       "    <tr style=\"text-align: right;\">\n",
       "      <th></th>\n",
       "      <th>Accession</th>\n",
       "      <th>Protein</th>\n",
       "      <th>Mol. weight [kDa]</th>\n",
       "      <th>Sample</th>\n",
       "      <th>iBAQ</th>\n",
       "      <th>Condition</th>\n",
       "      <th>Replicate</th>\n",
       "    </tr>\n",
       "  </thead>\n",
       "  <tbody>\n",
       "    <tr>\n",
       "      <th>14084</th>\n",
       "      <td>P32727</td>\n",
       "      <td>NusA</td>\n",
       "      <td>41.725</td>\n",
       "      <td>Diamide_03</td>\n",
       "      <td>20.632807</td>\n",
       "      <td>Diamide</td>\n",
       "      <td>Replicate_3</td>\n",
       "    </tr>\n",
       "    <tr>\n",
       "      <th>13658</th>\n",
       "      <td>O34394</td>\n",
       "      <td>YjjA</td>\n",
       "      <td>29.836</td>\n",
       "      <td>Diamide_03</td>\n",
       "      <td>17.390958</td>\n",
       "      <td>Diamide</td>\n",
       "      <td>Replicate_3</td>\n",
       "    </tr>\n",
       "    <tr>\n",
       "      <th>3028</th>\n",
       "      <td>O34667</td>\n",
       "      <td>LuxS</td>\n",
       "      <td>17.714</td>\n",
       "      <td>Before_Induction_03</td>\n",
       "      <td>17.233975</td>\n",
       "      <td>Before_Induction</td>\n",
       "      <td>Replicate_3</td>\n",
       "    </tr>\n",
       "    <tr>\n",
       "      <th>14253</th>\n",
       "      <td>P39846</td>\n",
       "      <td>PpsB</td>\n",
       "      <td>290.160</td>\n",
       "      <td>Diamide_03</td>\n",
       "      <td>9.030308</td>\n",
       "      <td>Diamide</td>\n",
       "      <td>Replicate_3</td>\n",
       "    </tr>\n",
       "    <tr>\n",
       "      <th>41</th>\n",
       "      <td>O06748</td>\n",
       "      <td>YitM</td>\n",
       "      <td>21.464</td>\n",
       "      <td>Before_Induction_01</td>\n",
       "      <td>14.916533</td>\n",
       "      <td>Before_Induction</td>\n",
       "      <td>Replicate_1</td>\n",
       "    </tr>\n",
       "  </tbody>\n",
       "</table>\n",
       "</div>"
      ],
      "text/plain": [
       "      Accession Protein  Mol. weight [kDa]               Sample       iBAQ  \\\n",
       "14084    P32727    NusA             41.725           Diamide_03  20.632807   \n",
       "13658    O34394    YjjA             29.836           Diamide_03  17.390958   \n",
       "3028     O34667    LuxS             17.714  Before_Induction_03  17.233975   \n",
       "14253    P39846    PpsB            290.160           Diamide_03   9.030308   \n",
       "41       O06748    YitM             21.464  Before_Induction_01  14.916533   \n",
       "\n",
       "              Condition    Replicate  \n",
       "14084           Diamide  Replicate_3  \n",
       "13658           Diamide  Replicate_3  \n",
       "3028   Before_Induction  Replicate_3  \n",
       "14253           Diamide  Replicate_3  \n",
       "41     Before_Induction  Replicate_1  "
      ]
     },
     "execution_count": 2,
     "metadata": {},
     "output_type": "execute_result"
    }
   ],
   "source": [
    "file = 'proteinGroups.txt'\n",
    "\n",
    "# Data importation\n",
    "\n",
    "df = alpaca.eats(file) #returns a dataframe with the unprocessed MaxQuant output\n",
    "\n",
    "# Data pre-processing\n",
    "\n",
    "clean_df, conditions, lfq_method = alpaca.spits(df)\n",
    "clean_df.sample(5)"
   ]
  },
  {
   "cell_type": "markdown",
   "id": "2bc9e60f-c06b-4f04-85fb-09ad8b01aa1a",
   "metadata": {
    "tags": []
   },
   "source": [
    "### Anchor protein quantification\n",
    "\n",
    "Absolute quantification using Alpaca is optimised for label-free methods, relying on the addition of a set of anchor proteins at a know amount. \n",
    "\n",
    "**Table 1.** Format for the file describing the stock solution of anchor proteins.\n",
    "\n",
    "| Accession  | MW (kDa) | Amount (fmol) |\n",
    "|------------|---------:|--------------:|\n",
    "| P02768     |   10.1   |         50    |\n",
    "| Q9Y6K9     |   65.8   |        100    |\n",
    "| P05067     |   32.5   |         25    |\n",
    "| O75475     |   48.2   |         75    |\n",
    "| Q00653     |   20.9   |         30    |"
   ]
  },
  {
   "cell_type": "code",
   "execution_count": 4,
   "id": "a334bfd1-f4d8-4015-832c-064d01658e3e",
   "metadata": {
    "tags": []
   },
   "outputs": [
    {
     "name": "stdout",
     "output_type": "stream",
     "text": [
      "Got column: Amount (fmoles) - Calculating fmols for you\n",
      "UPS2 standards vial concentration: 0.5 µg/µl | Resuspended in: 21.2 µl\n",
      "6.0 µl added to the sample\n",
      "Coefficients: [[1.08494535]]\n",
      "Intercept: [12.64700899]\n",
      "Mean squared error: 1.31\n",
      "Coefficient of determination: 0.92\n"
     ]
    },
    {
     "data": {
      "image/png": "[encoded data removed]",
      "text/plain": [
       "<Figure size 500x500 with 1 Axes>"
      ]
     },
     "metadata": {},
     "output_type": "display_data"
    }
   ],
   "source": [
    "# Import the file containing the information about the quantification standards proteins\n",
    "\n",
    "standards_file = 'UPS2.xlsx'\n",
    "st_proteins = alpaca.eats(standards_file)\n",
    "\n",
    "# If applicable, define which samples/replicates contain standards proteins\n",
    "\n",
    "spiked_samples = ['Before_induction_01', 'Control_01', 'Diamide_01']\n",
    "\n",
    "# Quantify the fmol present in the measured samples\n",
    "\n",
    "quant_df, st_proteins, coef, inter, r2 = alpaca.census(clean_df, st_proteins, \n",
    "                                                      filter_col = 'Sample', # Defines which column to filter for the spiked samples\n",
    "                                                      added_samples = spiked_samples) # Adding which samples contain the standars"
   ]
  },
  {
   "cell_type": "markdown",
   "id": "8c01b745-27b6-4292-8475-c017dfa0162f",
   "metadata": {},
   "source": [
    "`alpaca.census()` adds a column to the processed data with the calculated mol amounts present in the measured samples."
   ]
  },
  {
   "cell_type": "markdown",
   "id": "c627d235-904b-459a-950e-775c4f71208f",
   "metadata": {
    "tags": []
   },
   "source": [
    "### Experimental details\n"
   ]
  },
  {
   "cell_type": "code",
   "execution_count": 5,
   "id": "f50bb58c-5384-413f-980c-214acc3b5793",
   "metadata": {
    "tags": []
   },
   "outputs": [
    {
     "data": {
      "text/html": [
       "<div>\n",
       "<style scoped>\n",
       "    .dataframe tbody tr th:only-of-type {\n",
       "        vertical-align: middle;\n",
       "    }\n",
       "\n",
       "    .dataframe tbody tr th {\n",
       "        vertical-align: top;\n",
       "    }\n",
       "\n",
       "    .dataframe thead th {\n",
       "        text-align: right;\n",
       "    }\n",
       "</style>\n",
       "<table border=\"1\" class=\"dataframe\">\n",
       "  <thead>\n",
       "    <tr style=\"text-align: right;\">\n",
       "      <th></th>\n",
       "      <th>Condition</th>\n",
       "      <th>SampleVolume</th>\n",
       "      <th>ProteinConcentration</th>\n",
       "      <th>AmountMS</th>\n",
       "      <th>CellsPerML</th>\n",
       "      <th>TotalCultureVolume</th>\n",
       "      <th>ProteinSRM</th>\n",
       "      <th>fmolSRM</th>\n",
       "      <th>Enrichment</th>\n",
       "      <th>EnrichmentDirection</th>\n",
       "      <th>StdDilution</th>\n",
       "      <th>StdVolume</th>\n",
       "    </tr>\n",
       "  </thead>\n",
       "  <tbody>\n",
       "    <tr>\n",
       "      <th>0</th>\n",
       "      <td>Before_Induction</td>\n",
       "      <td>2.565198</td>\n",
       "      <td>2.588173</td>\n",
       "      <td>7.116433</td>\n",
       "      <td>0.757594</td>\n",
       "      <td>1.030139</td>\n",
       "      <td>P68871</td>\n",
       "      <td>0.327032</td>\n",
       "      <td>True</td>\n",
       "      <td>Up</td>\n",
       "      <td>2.977484</td>\n",
       "      <td>3.852749</td>\n",
       "    </tr>\n",
       "  </tbody>\n",
       "</table>\n",
       "</div>"
      ],
      "text/plain": [
       "          Condition  SampleVolume  ProteinConcentration  AmountMS  CellsPerML  \\\n",
       "0  Before_Induction      2.565198              2.588173  7.116433    0.757594   \n",
       "\n",
       "   TotalCultureVolume ProteinSRM   fmolSRM  Enrichment EnrichmentDirection  \\\n",
       "0            1.030139     P68871  0.327032        True                  Up   \n",
       "\n",
       "   StdDilution  StdVolume  \n",
       "0     2.977484   3.852749  "
      ]
     },
     "execution_count": 5,
     "metadata": {},
     "output_type": "execute_result"
    }
   ],
   "source": [
    "params = alpaca.eats('params.csv')\n",
    "params.sample()"
   ]
  },
  {
   "cell_type": "markdown",
   "id": "664a7891-9c48-4004-9369-fa12c33aea32",
   "metadata": {},
   "source": [
    "Experimental details (in our example `params.txt`) can be added as txt, csv or xlsx formats. This file can include the columns described in the following table:\n",
    "\n",
    "**Table 2.** Experimental parameters table. This example covers all possible columns. Nonetheless, not all columns are necessary. For example, Enrichment columns (EnrichmentDirection, StdDilution, StdVolume) are only used if any enrichment step was performed. More information about this is described in the Enrichment section.\n",
    "\n",
    "| Condition   | SampleVolume | ProteinConcentration | AmountMS | CellsPerML | TotalCultureVolume | ProteinSRM | fmolSRM | Enrichment | EnrichmentDirection | StdDilution | StdVolume |\n",
    "|-------------|--------------|----------------------|----------|------------|--------------------|------------|---------|------------|---------------------|-------------|-----------|\n",
    "| Cond1_t0    | 2.31         | 2.99                 | 9.67     | 4.54       | 7.54               | TNAMLN     | 4.44    | False      | Down                | 3.96        | 1.22      |\n",
    "| Cond2_t1    | 2.50         | 0.20                 | 4.10     | 5.13       | 2.62               | AJFVYC     | 4.85    | True       | Down                | 2.43        | 1.51      |\n",
    "| Cond3_t2    | 7.38         | 6.56                 | 2.77     | 3.66       | 3.80               | BYEKSC     | 9.71    | True       | Down                | 5.71        | 8.53      |"
   ]
  },
  {
   "cell_type": "markdown",
   "id": "bccb2d19-2cd1-429b-a049-c6a1d3a15793",
   "metadata": {
    "tags": []
   },
   "source": [
    "### Proteome fraction enrichment (Optional)\n",
    "\n",
    "In case the study focuses in a fraction of the proteome (e.g., membrane proteome or exoproteome), it is likely that during the sample preparation and enrichment step was performed. This module allows to translate the enrichment step to the data based on how the samples were prepared. \n",
    "\n",
    "`Enrichment factors` are calculated based on the fmol quantified in the enriched sample to the raw or non-enriched sample:\n",
    "\n",
    "$$\n",
    "ER = \\frac{fmol_{enriched}}{fmol_{non-enriched}}\n",
    "$$\n",
    "\n",
    "For that purpose, there are 2 strategies that are currently covered under our pipeline:\n",
    "\n",
    "**1. The quantification of specific proteins of the analysed fraction on both before and after the enrichment step using Targeted MS (SRM).** \n",
    "\n",
    "This strategy was described on [Antelo-Varela et al. 2019](https://pubmed.ncbi.nlm.nih.gov/31424929/) and relies on using external protocols (e.g., Skyline) to quantify the enrichment step. Enrichment factors can be added to the parameters table under the column `Enrichment_Factor`. Additionally, the SRM quantified amount for a given protein can be added on the columns `ProteinSRM` (Accession of the quantified protein) and `fmolSRM` (Quantified fmol in the analysed proteome fraction).\n",
    "\n",
    "**2. The addition of whole proteins at known concentration before performing the enrichment step.**\n",
    "\n",
    "This approach was described on [Ferrero-Bordera et al. 2024](https://doi.org/10.1128/spectrum.02616-23) and requires of a protein mixture at known concentration added before the enrichment step. Used standards have to be formatted as specified in the table below:\n",
    "\n",
    "**Table 3.** Enrichment standards\n",
    "\n",
    "| Accession | MW (kDa) | StdConcentration (µg/µl) |\n",
    "|-----------|---------:|-------------------------:|\n",
    "| P02768    |     10.1 |                     2.5  |\n",
    "| Q9Y6K9    |     65.8 |                     0.8  |\n",
    "| P05067    |     32.5 |                     1.2  |\n",
    "| O75475    |     48.2 |                     3.0  |\n",
    "| Q00653    |     20.9 |                     2.0  |\n"
   ]
  },
  {
   "cell_type": "code",
   "execution_count": 6,
   "id": "4ff851d1-e930-4fcb-8fda-466894652ec0",
   "metadata": {},
   "outputs": [
    {
     "data": {
      "text/html": [
       "<div>\n",
       "<style scoped>\n",
       "    .dataframe tbody tr th:only-of-type {\n",
       "        vertical-align: middle;\n",
       "    }\n",
       "\n",
       "    .dataframe tbody tr th {\n",
       "        vertical-align: top;\n",
       "    }\n",
       "\n",
       "    .dataframe thead th {\n",
       "        text-align: right;\n",
       "    }\n",
       "</style>\n",
       "<table border=\"1\" class=\"dataframe\">\n",
       "  <thead>\n",
       "    <tr style=\"text-align: right;\">\n",
       "      <th></th>\n",
       "      <th>Protein</th>\n",
       "      <th>Accession</th>\n",
       "      <th>Chain length</th>\n",
       "      <th>MW (kDa)</th>\n",
       "      <th>StdConcentration</th>\n",
       "    </tr>\n",
       "  </thead>\n",
       "  <tbody>\n",
       "    <tr>\n",
       "      <th>0</th>\n",
       "      <td>a-Lactalbumin</td>\n",
       "      <td>P00711</td>\n",
       "      <td>122 aa</td>\n",
       "      <td>14.3</td>\n",
       "      <td>174.073061</td>\n",
       "    </tr>\n",
       "    <tr>\n",
       "      <th>6</th>\n",
       "      <td>Carbonic Anhydrase</td>\n",
       "      <td>P00921</td>\n",
       "      <td>261 aa</td>\n",
       "      <td>29.0</td>\n",
       "      <td>3.605799</td>\n",
       "    </tr>\n",
       "    <tr>\n",
       "      <th>1</th>\n",
       "      <td>Glyceraldehyde-3-phosphate dehydrogenase</td>\n",
       "      <td>P46406</td>\n",
       "      <td>334 aa</td>\n",
       "      <td>37.0</td>\n",
       "      <td>460.050233</td>\n",
       "    </tr>\n",
       "  </tbody>\n",
       "</table>\n",
       "</div>"
      ],
      "text/plain": [
       "                                    Protein Accession Chain length  MW (kDa)  \\\n",
       "0                             a-Lactalbumin    P00711       122 aa      14.3   \n",
       "6                        Carbonic Anhydrase    P00921       261 aa      29.0   \n",
       "1  Glyceraldehyde-3-phosphate dehydrogenase    P46406       334 aa      37.0   \n",
       "\n",
       "   StdConcentration  \n",
       "0        174.073061  \n",
       "6          3.605799  \n",
       "1        460.050233  "
      ]
     },
     "execution_count": 6,
     "metadata": {},
     "output_type": "execute_result"
    }
   ],
   "source": [
    "enrichment = alpaca.eats('enrichment_std.xlsx').rename(columns={'Mix concentration (µg/µl)':'StdConcentration'})\n",
    "enrichment.sample(3)"
   ]
  },
  {
   "cell_type": "code",
   "execution_count": 7,
   "id": "f933d3ee-a5bc-4f2b-878e-11a4be4acfc3",
   "metadata": {},
   "outputs": [
    {
     "name": "stdout",
     "output_type": "stream",
     "text": [
      "Enrichment factor on condition: 0 = Condition           Before_Induction\n",
      "EnrichmentFactor           26.819017\n",
      "Name: 0, dtype: object\n",
      "Enrichment factor on condition: 1 = Condition             Control\n",
      "EnrichmentFactor    30.048362\n",
      "Name: 1, dtype: object\n"
     ]
    },
    {
     "data": {
      "text/html": [
       "<div>\n",
       "<style scoped>\n",
       "    .dataframe tbody tr th:only-of-type {\n",
       "        vertical-align: middle;\n",
       "    }\n",
       "\n",
       "    .dataframe tbody tr th {\n",
       "        vertical-align: top;\n",
       "    }\n",
       "\n",
       "    .dataframe thead th {\n",
       "        text-align: right;\n",
       "    }\n",
       "</style>\n",
       "<table border=\"1\" class=\"dataframe\">\n",
       "  <thead>\n",
       "    <tr style=\"text-align: right;\">\n",
       "      <th></th>\n",
       "      <th>Accession</th>\n",
       "      <th>Protein</th>\n",
       "      <th>Mol. weight [kDa]</th>\n",
       "      <th>Sample</th>\n",
       "      <th>iBAQ</th>\n",
       "      <th>Condition</th>\n",
       "      <th>Replicate</th>\n",
       "      <th>fmol</th>\n",
       "    </tr>\n",
       "  </thead>\n",
       "  <tbody>\n",
       "    <tr>\n",
       "      <th>12905</th>\n",
       "      <td>P39797</td>\n",
       "      <td>XepA</td>\n",
       "      <td>30.345</td>\n",
       "      <td>Diamide_02</td>\n",
       "      <td>20.102006</td>\n",
       "      <td>Diamide</td>\n",
       "      <td>Replicate_2</td>\n",
       "      <td>117.076806</td>\n",
       "    </tr>\n",
       "  </tbody>\n",
       "</table>\n",
       "</div>"
      ],
      "text/plain": [
       "      Accession Protein  Mol. weight [kDa]      Sample       iBAQ Condition  \\\n",
       "12905    P39797    XepA             30.345  Diamide_02  20.102006   Diamide   \n",
       "\n",
       "         Replicate        fmol  \n",
       "12905  Replicate_2  117.076806  "
      ]
     },
     "execution_count": 7,
     "metadata": {},
     "output_type": "execute_result"
    }
   ],
   "source": [
    "enrichment_std, sample_prep_updated = alpaca.gathers(clean_df, enrichment, params)\n",
    "clean_df.sample()"
   ]
  },
  {
   "cell_type": "markdown",
   "id": "e4538b7c-79e8-4b63-9431-ab988f87094a",
   "metadata": {},
   "source": [
    "### Data integration\n",
    "\n",
    "This module connects the protein amounts quantified in the sample and the sample preparation. Thus, allowing to calculate protein amounts to the original state (e.g. bacterial culture, raw culture supernatant). This step brings deeper insights to the user based on the known experimental parameters, yielding high valuable data (e.g., molecules per cell, fmol / µmol of protein extract)"
   ]
  },
  {
   "cell_type": "code",
   "execution_count": 8,
   "id": "c25ca4ac-519e-42f1-901f-a3bf3febff5d",
   "metadata": {},
   "outputs": [
    {
     "data": {
      "text/html": [
       "<div>\n",
       "<style scoped>\n",
       "    .dataframe tbody tr th:only-of-type {\n",
       "        vertical-align: middle;\n",
       "    }\n",
       "\n",
       "    .dataframe tbody tr th {\n",
       "        vertical-align: top;\n",
       "    }\n",
       "\n",
       "    .dataframe thead th {\n",
       "        text-align: right;\n",
       "    }\n",
       "</style>\n",
       "<table border=\"1\" class=\"dataframe\">\n",
       "  <thead>\n",
       "    <tr style=\"text-align: right;\">\n",
       "      <th></th>\n",
       "      <th>Accession</th>\n",
       "      <th>Protein</th>\n",
       "      <th>Mol. weight [kDa]</th>\n",
       "      <th>Sample</th>\n",
       "      <th>iBAQ</th>\n",
       "      <th>Condition</th>\n",
       "      <th>Replicate</th>\n",
       "      <th>fmol</th>\n",
       "      <th>Molecules</th>\n",
       "      <th>fmolSample</th>\n",
       "      <th>MoleculesPerCell</th>\n",
       "    </tr>\n",
       "  </thead>\n",
       "  <tbody>\n",
       "    <tr>\n",
       "      <th>11414</th>\n",
       "      <td>P33166</td>\n",
       "      <td>Tuf</td>\n",
       "      <td>43.593</td>\n",
       "      <td>Diamide_01</td>\n",
       "      <td>25.802451</td>\n",
       "      <td>Diamide</td>\n",
       "      <td>Replicate_1</td>\n",
       "      <td>6941.783615</td>\n",
       "      <td>2.161041e+13</td>\n",
       "      <td>35879.808549</td>\n",
       "      <td>1.144550e+12</td>\n",
       "    </tr>\n",
       "    <tr>\n",
       "      <th>2062</th>\n",
       "      <td>P33166</td>\n",
       "      <td>Tuf</td>\n",
       "      <td>43.593</td>\n",
       "      <td>Before_Induction_02</td>\n",
       "      <td>23.831324</td>\n",
       "      <td>Before_Induction</td>\n",
       "      <td>Replicate_2</td>\n",
       "      <td>0.275156</td>\n",
       "      <td>1.546121e+08</td>\n",
       "      <td>0.256703</td>\n",
       "      <td>1.981124e+08</td>\n",
       "    </tr>\n",
       "    <tr>\n",
       "      <th>4349</th>\n",
       "      <td>O34595</td>\n",
       "      <td>ThiI</td>\n",
       "      <td>45.465</td>\n",
       "      <td>Before_Induction_04</td>\n",
       "      <td>15.996937</td>\n",
       "      <td>Before_Induction</td>\n",
       "      <td>Replicate_4</td>\n",
       "      <td>0.001844</td>\n",
       "      <td>1.036351e+06</td>\n",
       "      <td>0.001721</td>\n",
       "      <td>1.327929e+06</td>\n",
       "    </tr>\n",
       "  </tbody>\n",
       "</table>\n",
       "</div>"
      ],
      "text/plain": [
       "      Accession Protein  Mol. weight [kDa]               Sample       iBAQ  \\\n",
       "11414    P33166     Tuf             43.593           Diamide_01  25.802451   \n",
       "2062     P33166     Tuf             43.593  Before_Induction_02  23.831324   \n",
       "4349     O34595    ThiI             45.465  Before_Induction_04  15.996937   \n",
       "\n",
       "              Condition    Replicate         fmol     Molecules    fmolSample  \\\n",
       "11414           Diamide  Replicate_1  6941.783615  2.161041e+13  35879.808549   \n",
       "2062   Before_Induction  Replicate_2     0.275156  1.546121e+08      0.256703   \n",
       "4349   Before_Induction  Replicate_4     0.001844  1.036351e+06      0.001721   \n",
       "\n",
       "       MoleculesPerCell  \n",
       "11414      1.144550e+12  \n",
       "2062       1.981124e+08  \n",
       "4349       1.327929e+06  "
      ]
     },
     "execution_count": 8,
     "metadata": {},
     "output_type": "execute_result"
    }
   ],
   "source": [
    "results = alpaca.wool(quant_df, sample_prep_updated)\n",
    "\n",
    "results.sample(3)"
   ]
  },
  {
   "cell_type": "code",
   "execution_count": null,
   "id": "373053a1-47d3-48b3-b36f-f828be270680",
   "metadata": {},
   "outputs": [],
   "source": []
  }
 ],
 "metadata": {
  "kernelspec": {
   "display_name": "Python 3 (ipykernel)",
   "language": "python",
   "name": "python3"
  },
  "language_info": {
   "codemirror_mode": {
    "name": "ipython",
    "version": 3
   },
   "file_extension": ".py",
   "mimetype": "text/x-python",
   "name": "python",
   "nbconvert_exporter": "python",
   "pygments_lexer": "ipython3",
   "version": "3.11.5"
  }
 },
 "nbformat": 4,
 "nbformat_minor": 5
}
