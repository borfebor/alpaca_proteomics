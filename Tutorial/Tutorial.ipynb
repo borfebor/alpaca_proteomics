{
 "cells": [
  {
   "cell_type": "markdown",
   "id": "4887c2f2-8452-4ba9-9896-be588b224184",
   "metadata": {
    "tags": []
   },
   "source": [
    "### First steps\n",
    "\n",
    "1. Install alpaca package on the terminal through \n",
    "\n",
    "        pip install alpaca_proteomics\n",
    "\n",
    "\n",
    "2. Import the package\n"
   ]
  },
  {
   "cell_type": "code",
   "execution_count": 42,
   "id": "3fe0552d-09b1-41a6-b7f7-d7406bf162f4",
   "metadata": {},
   "outputs": [],
   "source": [
    "from alpaca_proteomics import alpaca"
   ]
  },
  {
   "cell_type": "markdown",
   "id": "ec000c7a-b2de-41c2-ac35-4820952e5828",
   "metadata": {},
   "source": [
    "### Data import and formatting\n",
    "\n",
    "Alpaca works with unprocessed proteomics datasets from MaxQuant. The package takes the file `proteinGroups.txt`, which can be found in the combined folder of MaxQuant output. This dataset is from the exoproteome data published in [Ferrero-Bordera et al. 2024. Microbiology Spectrum](https://doi.org/10.1128/spectrum.02616-23)."
   ]
  },
  {
   "cell_type": "code",
   "execution_count": 93,
   "id": "5f216f04-a616-4cbf-8597-832c527cd17c",
   "metadata": {},
   "outputs": [
    {
     "name": "stdout",
     "output_type": "stream",
     "text": [
      "Items marked on ['Only identified by site', 'Reverse', 'Potential contaminant'] have been removed from the dataset.\n",
      "Dataset formated for further analysis and visualisation.\n"
     ]
    },
    {
     "data": {
      "text/html": [
       "<div>\n",
       "<style scoped>\n",
       "    .dataframe tbody tr th:only-of-type {\n",
       "        vertical-align: middle;\n",
       "    }\n",
       "\n",
       "    .dataframe tbody tr th {\n",
       "        vertical-align: top;\n",
       "    }\n",
       "\n",
       "    .dataframe thead th {\n",
       "        text-align: right;\n",
       "    }\n",
       "</style>\n",
       "<table border=\"1\" class=\"dataframe\">\n",
       "  <thead>\n",
       "    <tr style=\"text-align: right;\">\n",
       "      <th></th>\n",
       "      <th>Accession</th>\n",
       "      <th>Protein</th>\n",
       "      <th>Mol. weight [kDa]</th>\n",
       "      <th>Sample</th>\n",
       "      <th>iBAQ</th>\n",
       "      <th>Condition</th>\n",
       "      <th>Replicate</th>\n",
       "    </tr>\n",
       "  </thead>\n",
       "  <tbody>\n",
       "    <tr>\n",
       "      <th>13702</th>\n",
       "      <td>O34599</td>\n",
       "      <td>IscS1</td>\n",
       "      <td>41.191</td>\n",
       "      <td>Diamide_03</td>\n",
       "      <td>14.330987</td>\n",
       "      <td>Diamide</td>\n",
       "      <td>Replicate_3</td>\n",
       "    </tr>\n",
       "    <tr>\n",
       "      <th>15508</th>\n",
       "      <td>P37960</td>\n",
       "      <td>MrgA</td>\n",
       "      <td>17.332</td>\n",
       "      <td>Diamide_04</td>\n",
       "      <td>18.951114</td>\n",
       "      <td>Diamide</td>\n",
       "      <td>Replicate_4</td>\n",
       "    </tr>\n",
       "    <tr>\n",
       "      <th>14515</th>\n",
       "      <td>P71021</td>\n",
       "      <td>DivIVA</td>\n",
       "      <td>19.341</td>\n",
       "      <td>Diamide_03</td>\n",
       "      <td>20.059994</td>\n",
       "      <td>Diamide</td>\n",
       "      <td>Replicate_3</td>\n",
       "    </tr>\n",
       "    <tr>\n",
       "      <th>9853</th>\n",
       "      <td>P09124</td>\n",
       "      <td>GapA</td>\n",
       "      <td>35.832</td>\n",
       "      <td>Control_04</td>\n",
       "      <td>23.419312</td>\n",
       "      <td>Control</td>\n",
       "      <td>Replicate_4</td>\n",
       "    </tr>\n",
       "    <tr>\n",
       "      <th>11324</th>\n",
       "      <td>P23129</td>\n",
       "      <td>OdhA</td>\n",
       "      <td>106.280</td>\n",
       "      <td>Diamide_01</td>\n",
       "      <td>20.883678</td>\n",
       "      <td>Diamide</td>\n",
       "      <td>Replicate_1</td>\n",
       "    </tr>\n",
       "  </tbody>\n",
       "</table>\n",
       "</div>"
      ],
      "text/plain": [
       "      Accession Protein  Mol. weight [kDa]      Sample       iBAQ Condition  \\\n",
       "13702    O34599   IscS1             41.191  Diamide_03  14.330987   Diamide   \n",
       "15508    P37960    MrgA             17.332  Diamide_04  18.951114   Diamide   \n",
       "14515    P71021  DivIVA             19.341  Diamide_03  20.059994   Diamide   \n",
       "9853     P09124    GapA             35.832  Control_04  23.419312   Control   \n",
       "11324    P23129    OdhA            106.280  Diamide_01  20.883678   Diamide   \n",
       "\n",
       "         Replicate  \n",
       "13702  Replicate_3  \n",
       "15508  Replicate_4  \n",
       "14515  Replicate_3  \n",
       "9853   Replicate_4  \n",
       "11324  Replicate_1  "
      ]
     },
     "execution_count": 93,
     "metadata": {},
     "output_type": "execute_result"
    }
   ],
   "source": [
    "file = 'proteinGroups.txt'\n",
    "\n",
    "# Data importation\n",
    "\n",
    "df = alpaca.eats(file) #returns a dataframe with the unprocessed MaxQuant output\n",
    "\n",
    "# Data pre-processing\n",
    "\n",
    "clean_df, conditions, lfq_method = alpaca.spits(df)\n",
    "clean_df.sample(5)"
   ]
  },
  {
   "cell_type": "markdown",
   "id": "2bc9e60f-c06b-4f04-85fb-09ad8b01aa1a",
   "metadata": {
    "tags": []
   },
   "source": [
    "### Anchor protein quantification\n",
    "\n",
    "Absolute quantification using Alpaca is optimised for label-free methods, relying on the addition of a set of anchor proteins at a know amount. \n",
    "\n",
    "**Table 1.** Format for the file describing the stock solution of anchor proteins.\n",
    "\n",
    "| Accession  | MW (kDa) | Amount (fmol) |\n",
    "|------------|---------:|--------------:|\n",
    "| P02768     |   10.1   |         50    |\n",
    "| Q9Y6K9     |   65.8   |        100    |\n",
    "| P05067     |   32.5   |         25    |\n",
    "| O75475     |   48.2   |         75    |\n",
    "| Q00653     |   20.9   |         30    |"
   ]
  },
  {
   "cell_type": "code",
   "execution_count": null,
   "id": "5ca1c871-5fc0-46d5-875f-62b74bbf8144",
   "metadata": {},
   "outputs": [
    {
     "data": {
      "text/plain": [
       "array(['Before_Induction_01', 'Before_Induction_02',\n",
       "       'Before_Induction_03', 'Before_Induction_04', 'Control_01',\n",
       "       'Control_02', 'Control_03', 'Control_04', 'Diamide_01',\n",
       "       'Diamide_02', 'Diamide_03', 'Diamide_04'], dtype=object)"
      ]
     },
     "execution_count": 94,
     "metadata": {},
     "output_type": "execute_result"
    }
   ],
   "source": [
    "clean_df.Sample.unique()"
   ]
  },
  {
   "cell_type": "code",
   "execution_count": 95,
   "id": "a334bfd1-f4d8-4015-832c-064d01658e3e",
   "metadata": {
    "tags": []
   },
   "outputs": [
    {
     "name": "stdout",
     "output_type": "stream",
     "text": [
      "Got column: Amount (fmoles) - Calculating fmols for you\n",
      "UPS2 standards vial concentration: 0.5 µg/µl | Resuspended in: 21.2 µl\n",
      "6.0 µl added to the sample\n",
      "Coefficients: [[1.08494535]]\n",
      "Intercept: [12.64700899]\n",
      "Mean squared error: 1.31\n",
      "Coefficient of determination: 0.92\n"
     ]
    },
    {
     "data": {
      "image/png": "[encoded data removed]",
      "text/plain": [
       "<Figure size 500x500 with 1 Axes>"
      ]
     },
     "metadata": {},
     "output_type": "display_data"
    }
   ],
   "source": [
    "# Import the file containing the information about the quantification standards proteins\n",
    "\n",
    "standards_file = 'UPS2.xlsx'\n",
    "st_proteins = alpaca.eats(standards_file)\n",
    "\n",
    "# If applicable, define which samples/replicates contain standards proteins\n",
    "\n",
    "spiked_samples = ['Before_induction_01', 'Control_01', 'Diamide_01']\n",
    "\n",
    "# Quantify the fmol present in the measured samples\n",
    "\n",
    "quant_df, st_proteins, coef, inter, r2 = alpaca.census(clean_df, st_proteins, \n",
    "                                                      filter_col = 'Sample', # Defines which column to filter for the spiked samples\n",
    "                                                      added_samples = spiked_samples) # Adding which samples contain the standars"
   ]
  },
  {
   "cell_type": "markdown",
   "id": "8c01b745-27b6-4292-8475-c017dfa0162f",
   "metadata": {},
   "source": [
    "`alpaca.census()` adds a column to the processed data with the calculated mol amounts present in the measured samples."
   ]
  },
  {
   "cell_type": "markdown",
   "id": "c627d235-904b-459a-950e-775c4f71208f",
   "metadata": {
    "tags": []
   },
   "source": [
    "### Experimental details\n",
    "\n",
    "| Accession | MW (kDa) | StdConcentration (µg/µl) |\n",
    "|-----------|---------:|-------------------------:|\n",
    "| P02768    |     10.1 |                     2.5  |\n",
    "| Q9Y6K9    |     65.8 |                     0.8  |\n",
    "| P05067    |     32.5 |                     1.2  |\n",
    "| O75475    |     48.2 |                     3.0  |\n",
    "| Q00653    |     20.9 |                     2.0  | \n",
    "\n",
    "This module was designed to allow researchers to connect sample preparation to the quantified numbers"
   ]
  },
  {
   "cell_type": "code",
   "execution_count": 114,
   "id": "f50bb58c-5384-413f-980c-214acc3b5793",
   "metadata": {
    "tags": []
   },
   "outputs": [
    {
     "data": {
      "text/html": [
       "<div>\n",
       "<style scoped>\n",
       "    .dataframe tbody tr th:only-of-type {\n",
       "        vertical-align: middle;\n",
       "    }\n",
       "\n",
       "    .dataframe tbody tr th {\n",
       "        vertical-align: top;\n",
       "    }\n",
       "\n",
       "    .dataframe thead th {\n",
       "        text-align: right;\n",
       "    }\n",
       "</style>\n",
       "<table border=\"1\" class=\"dataframe\">\n",
       "  <thead>\n",
       "    <tr style=\"text-align: right;\">\n",
       "      <th></th>\n",
       "      <th>Condition</th>\n",
       "      <th>SampleVolume</th>\n",
       "      <th>ProteinConcentration</th>\n",
       "      <th>AmountMS</th>\n",
       "      <th>CellsPerML</th>\n",
       "      <th>TotalCultureVolume</th>\n",
       "      <th>ProteinSRM</th>\n",
       "      <th>fmolSRM</th>\n",
       "      <th>Enrichment</th>\n",
       "      <th>EnrichmentDirection</th>\n",
       "      <th>StdDilution</th>\n",
       "      <th>StdVolume</th>\n",
       "    </tr>\n",
       "  </thead>\n",
       "  <tbody>\n",
       "    <tr>\n",
       "      <th>1</th>\n",
       "      <td>Control</td>\n",
       "      <td>9.310715</td>\n",
       "      <td>7.766196</td>\n",
       "      <td>1.060855</td>\n",
       "      <td>1.658673</td>\n",
       "      <td>9.223972</td>\n",
       "      <td>P54576</td>\n",
       "      <td>6.914357</td>\n",
       "      <td>True</td>\n",
       "      <td>Up</td>\n",
       "      <td>9.943855</td>\n",
       "      <td>9.530689</td>\n",
       "    </tr>\n",
       "  </tbody>\n",
       "</table>\n",
       "</div>"
      ],
      "text/plain": [
       "  Condition  SampleVolume  ProteinConcentration  AmountMS  CellsPerML  \\\n",
       "1   Control      9.310715              7.766196  1.060855    1.658673   \n",
       "\n",
       "   TotalCultureVolume ProteinSRM   fmolSRM  Enrichment EnrichmentDirection  \\\n",
       "1            9.223972     P54576  6.914357        True                  Up   \n",
       "\n",
       "   StdDilution  StdVolume  \n",
       "1     9.943855   9.530689  "
      ]
     },
     "execution_count": 114,
     "metadata": {},
     "output_type": "execute_result"
    }
   ],
   "source": [
    "params = alpaca.eats('params.csv')\n",
    "params.sample()"
   ]
  },
  {
   "cell_type": "markdown",
   "id": "664a7891-9c48-4004-9369-fa12c33aea32",
   "metadata": {},
   "source": [
    "Experimental details (in our example `experimentalDetails.txt`) can be added as txt, csv or xlsx formats. This file can include the columns described in the following table:\n",
    "\n",
    "**Table 2.** Experimental parameters table. This example covers all possible columns. Nonetheless, not all columns are necessary. For example, Enrichment columns (EnrichmentDirection, StdDilution, StdVolume) are only used if any enrichment step was performed. More information about this is described in the Enrichment section.\n",
    "\n",
    "| Condition   | SampleVolume | ProteinConcentration | AmountMS | CellsPerML | TotalCultureVolume | ProteinSRM | fmolSRM | Enrichment | EnrichmentDirection | StdDilution | StdVolume |\n",
    "|-------------|--------------|----------------------|----------|------------|--------------------|------------|---------|------------|---------------------|-------------|-----------|\n",
    "| Cond1_t0    | 2.31         | 2.99                 | 9.67     | 4.54       | 7.54               | TNAMLN     | 4.44    | False      | Down                | 3.96        | 1.22      |\n",
    "| Cond2_t1    | 2.50         | 0.20                 | 4.10     | 5.13       | 2.62               | AJFVYC     | 4.85    | True       | Down                | 2.43        | 1.51      |\n",
    "| Cond3_t2    | 7.38         | 6.56                 | 2.77     | 3.66       | 3.80               | BYEKSC     | 9.71    | True       | Down                | 5.71        | 8.53      |"
   ]
  },
  {
   "cell_type": "markdown",
   "id": "bccb2d19-2cd1-429b-a049-c6a1d3a15793",
   "metadata": {
    "tags": []
   },
   "source": [
    "### Proteome fraction enrichment (Optional)\n",
    "\n",
    "In case the study focuses in a fraction of the proteome (e.g., membrane proteome or exoproteome), it is likely that during the sample preparation and enrichment step was performed. This module allows to translate the enrichment step to the data based on how the samples were prepared. \n",
    "\n",
    "`Enrichment factors` are calculated based on the fmol quantified in the enriched sample to the raw or non-enriched sample:\n",
    "\n",
    "$$\n",
    "ER = \\frac{fmol_{enriched}}{fmol_{non-enriched}}\n",
    "$$\n",
    "\n",
    "For that purpose, there are 2 strategies that are currently covered under our pipeline:\n",
    "\n",
    "**1. The quantification of specific proteins of the analysed fraction on both before and after the enrichment step using Targeted MS (SRM).** \n",
    "\n",
    "This strategy was described on [Antelo-Varela et al. 2019](https://pubmed.ncbi.nlm.nih.gov/31424929/) and relies on using external protocols (e.g., Skyline) to quantify the enrichment step. Enrichment factors can be added to the parameters table under the column `Enrichment_Factor`. Additionally, the SRM quantified amount for a given protein can be added on the columns `ProteinSRM` (Accession of the quantified protein) and `fmolSRM` (Quantified fmol in the analysed proteome fraction).\n",
    "\n",
    "**2. The addition of whole proteins at known concentration before performing the enrichment step.**\n",
    "\n",
    "This approach was described on [Ferrero-Bordera et al. 2024](https://doi.org/10.1128/spectrum.02616-23) and requires of a protein mixture at known concentration added before the enrichment step. Used standards have to be formatted as specified in the table below:\n",
    "\n",
    "**Table 3.** Enrichment standards\n",
    "\n",
    "| Accession | MW (kDa) | StdConcentration (µg/µl) |\n",
    "|-----------|---------:|-------------------------:|\n",
    "| P02768    |     10.1 |                     2.5  |\n",
    "| Q9Y6K9    |     65.8 |                     0.8  |\n",
    "| P05067    |     32.5 |                     1.2  |\n",
    "| O75475    |     48.2 |                     3.0  |\n",
    "| Q00653    |     20.9 |                     2.0  |\n"
   ]
  },
  {
   "cell_type": "code",
   "execution_count": 123,
   "id": "4ff851d1-e930-4fcb-8fda-466894652ec0",
   "metadata": {},
   "outputs": [
    {
     "data": {
      "text/html": [
       "<div>\n",
       "<style scoped>\n",
       "    .dataframe tbody tr th:only-of-type {\n",
       "        vertical-align: middle;\n",
       "    }\n",
       "\n",
       "    .dataframe tbody tr th {\n",
       "        vertical-align: top;\n",
       "    }\n",
       "\n",
       "    .dataframe thead th {\n",
       "        text-align: right;\n",
       "    }\n",
       "</style>\n",
       "<table border=\"1\" class=\"dataframe\">\n",
       "  <thead>\n",
       "    <tr style=\"text-align: right;\">\n",
       "      <th></th>\n",
       "      <th>Protein</th>\n",
       "      <th>Accession</th>\n",
       "      <th>Chain length</th>\n",
       "      <th>MW (kDa)</th>\n",
       "      <th>StdConcentration</th>\n",
       "    </tr>\n",
       "  </thead>\n",
       "  <tbody>\n",
       "    <tr>\n",
       "      <th>2</th>\n",
       "      <td>ADH</td>\n",
       "      <td>P00330</td>\n",
       "      <td>348 aa</td>\n",
       "      <td>36.8</td>\n",
       "      <td>45.756347</td>\n",
       "    </tr>\n",
       "    <tr>\n",
       "      <th>0</th>\n",
       "      <td>a-Lactalbumin</td>\n",
       "      <td>P00711</td>\n",
       "      <td>122 aa</td>\n",
       "      <td>14.3</td>\n",
       "      <td>174.073061</td>\n",
       "    </tr>\n",
       "    <tr>\n",
       "      <th>3</th>\n",
       "      <td>Soybean Trypsin Inhibitor</td>\n",
       "      <td>P01071</td>\n",
       "      <td>181 aa</td>\n",
       "      <td>20.0</td>\n",
       "      <td>24.867580</td>\n",
       "    </tr>\n",
       "  </tbody>\n",
       "</table>\n",
       "</div>"
      ],
      "text/plain": [
       "                     Protein Accession Chain length  MW (kDa)  \\\n",
       "2                        ADH    P00330       348 aa      36.8   \n",
       "0              a-Lactalbumin    P00711       122 aa      14.3   \n",
       "3  Soybean Trypsin Inhibitor    P01071       181 aa      20.0   \n",
       "\n",
       "   StdConcentration  \n",
       "2         45.756347  \n",
       "0        174.073061  \n",
       "3         24.867580  "
      ]
     },
     "execution_count": 123,
     "metadata": {},
     "output_type": "execute_result"
    }
   ],
   "source": [
    "enrichment = alpaca.eats('enrichment_std.xlsx').rename(columns={'Mix concentration (µg/µl)':'StdConcentration'})\n",
    "enrichment.sample(3)"
   ]
  },
  {
   "cell_type": "code",
   "execution_count": 121,
   "id": "f933d3ee-a5bc-4f2b-878e-11a4be4acfc3",
   "metadata": {},
   "outputs": [
    {
     "name": "stdout",
     "output_type": "stream",
     "text": [
      "Enrichment factor on condition: 0 = Condition           Before_Induction\n",
      "EnrichmentFactor           26.819017\n",
      "Name: 0, dtype: object\n",
      "Enrichment factor on condition: 1 = Condition             Control\n",
      "EnrichmentFactor    30.048362\n",
      "Name: 1, dtype: object\n"
     ]
    },
    {
     "data": {
      "text/html": [
       "<div>\n",
       "<style scoped>\n",
       "    .dataframe tbody tr th:only-of-type {\n",
       "        vertical-align: middle;\n",
       "    }\n",
       "\n",
       "    .dataframe tbody tr th {\n",
       "        vertical-align: top;\n",
       "    }\n",
       "\n",
       "    .dataframe thead th {\n",
       "        text-align: right;\n",
       "    }\n",
       "</style>\n",
       "<table border=\"1\" class=\"dataframe\">\n",
       "  <thead>\n",
       "    <tr style=\"text-align: right;\">\n",
       "      <th></th>\n",
       "      <th>Accession</th>\n",
       "      <th>Protein</th>\n",
       "      <th>Mol. weight [kDa]</th>\n",
       "      <th>Sample</th>\n",
       "      <th>iBAQ</th>\n",
       "      <th>Condition</th>\n",
       "      <th>Replicate</th>\n",
       "      <th>fmol</th>\n",
       "    </tr>\n",
       "  </thead>\n",
       "  <tbody>\n",
       "    <tr>\n",
       "      <th>4232</th>\n",
       "      <td>O32053</td>\n",
       "      <td>Tgt</td>\n",
       "      <td>43.71</td>\n",
       "      <td>Before_Induction_04</td>\n",
       "      <td>17.794492</td>\n",
       "      <td>Before_Induction</td>\n",
       "      <td>Replicate_4</td>\n",
       "      <td>26.805608</td>\n",
       "    </tr>\n",
       "  </tbody>\n",
       "</table>\n",
       "</div>"
      ],
      "text/plain": [
       "     Accession Protein  Mol. weight [kDa]               Sample       iBAQ  \\\n",
       "4232    O32053     Tgt              43.71  Before_Induction_04  17.794492   \n",
       "\n",
       "             Condition    Replicate       fmol  \n",
       "4232  Before_Induction  Replicate_4  26.805608  "
      ]
     },
     "execution_count": 121,
     "metadata": {},
     "output_type": "execute_result"
    }
   ],
   "source": [
    "enrichment_std, sample_prep_updated = alpaca.gathers(clean_df, enrichment, params)\n",
    "clean_df.sample()"
   ]
  },
  {
   "cell_type": "markdown",
   "id": "e4538b7c-79e8-4b63-9431-ab988f87094a",
   "metadata": {},
   "source": [
    "### Data integration\n",
    "\n",
    "This module connects the protein amounts quantified in the sample and the sample preparation. Thus, allowing to calculate protein amounts to the original state (e.g. bacterial culture, raw culture supernatant). This step brings deeper insights to the user based on the known experimental parameters, yielding high valuable data (e.g., molecules per cell, fmol / µmol of protein extract)"
   ]
  },
  {
   "cell_type": "code",
   "execution_count": 125,
   "id": "c25ca4ac-519e-42f1-901f-a3bf3febff5d",
   "metadata": {},
   "outputs": [
    {
     "data": {
      "text/html": [
       "<div>\n",
       "<style scoped>\n",
       "    .dataframe tbody tr th:only-of-type {\n",
       "        vertical-align: middle;\n",
       "    }\n",
       "\n",
       "    .dataframe tbody tr th {\n",
       "        vertical-align: top;\n",
       "    }\n",
       "\n",
       "    .dataframe thead th {\n",
       "        text-align: right;\n",
       "    }\n",
       "</style>\n",
       "<table border=\"1\" class=\"dataframe\">\n",
       "  <thead>\n",
       "    <tr style=\"text-align: right;\">\n",
       "      <th></th>\n",
       "      <th>Accession</th>\n",
       "      <th>Protein</th>\n",
       "      <th>Mol. weight [kDa]</th>\n",
       "      <th>Sample</th>\n",
       "      <th>iBAQ</th>\n",
       "      <th>Condition</th>\n",
       "      <th>Replicate</th>\n",
       "      <th>fmol</th>\n",
       "      <th>Molecules</th>\n",
       "      <th>fmolSample</th>\n",
       "      <th>MoleculesPerCell</th>\n",
       "    </tr>\n",
       "  </thead>\n",
       "  <tbody>\n",
       "    <tr>\n",
       "      <th>8669</th>\n",
       "      <td>P23973</td>\n",
       "      <td>MenF</td>\n",
       "      <td>52.811</td>\n",
       "      <td>Control_03</td>\n",
       "      <td>16.305581</td>\n",
       "      <td>Control</td>\n",
       "      <td>Replicate_3</td>\n",
       "      <td>3.982239</td>\n",
       "      <td>1.634841e+11</td>\n",
       "      <td>271.432976</td>\n",
       "      <td>1.068554e+10</td>\n",
       "    </tr>\n",
       "    <tr>\n",
       "      <th>15671</th>\n",
       "      <td>P46343</td>\n",
       "      <td>PhoH</td>\n",
       "      <td>35.541</td>\n",
       "      <td>Diamide_04</td>\n",
       "      <td>16.936868</td>\n",
       "      <td>Diamide</td>\n",
       "      <td>Replicate_4</td>\n",
       "      <td>24.077851</td>\n",
       "      <td>7.495656e+10</td>\n",
       "      <td>124.450535</td>\n",
       "      <td>3.969918e+09</td>\n",
       "    </tr>\n",
       "    <tr>\n",
       "      <th>10376</th>\n",
       "      <td>P53560</td>\n",
       "      <td>YtbQ</td>\n",
       "      <td>28.233</td>\n",
       "      <td>Control_04</td>\n",
       "      <td>12.822611</td>\n",
       "      <td>Control</td>\n",
       "      <td>Replicate_4</td>\n",
       "      <td>0.430268</td>\n",
       "      <td>1.766392e+10</td>\n",
       "      <td>29.327450</td>\n",
       "      <td>1.154538e+09</td>\n",
       "    </tr>\n",
       "  </tbody>\n",
       "</table>\n",
       "</div>"
      ],
      "text/plain": [
       "      Accession Protein  Mol. weight [kDa]      Sample       iBAQ Condition  \\\n",
       "8669     P23973    MenF             52.811  Control_03  16.305581   Control   \n",
       "15671    P46343    PhoH             35.541  Diamide_04  16.936868   Diamide   \n",
       "10376    P53560    YtbQ             28.233  Control_04  12.822611   Control   \n",
       "\n",
       "         Replicate       fmol     Molecules  fmolSample  MoleculesPerCell  \n",
       "8669   Replicate_3   3.982239  1.634841e+11  271.432976      1.068554e+10  \n",
       "15671  Replicate_4  24.077851  7.495656e+10  124.450535      3.969918e+09  \n",
       "10376  Replicate_4   0.430268  1.766392e+10   29.327450      1.154538e+09  "
      ]
     },
     "execution_count": 125,
     "metadata": {},
     "output_type": "execute_result"
    }
   ],
   "source": [
    "results = alpaca.wooler(quant_df, sample_prep_updated)\n",
    "\n",
    "results.sample(3)"
   ]
  },
  {
   "cell_type": "code",
   "execution_count": null,
   "id": "373053a1-47d3-48b3-b36f-f828be270680",
   "metadata": {},
   "outputs": [],
   "source": []
  }
 ],
 "metadata": {
  "kernelspec": {
   "display_name": "Python 3 (ipykernel)",
   "language": "python",
   "name": "python3"
  },
  "language_info": {
   "codemirror_mode": {
    "name": "ipython",
    "version": 3
   },
   "file_extension": ".py",
   "mimetype": "text/x-python",
   "name": "python",
   "nbconvert_exporter": "python",
   "pygments_lexer": "ipython3",
   "version": "3.11.5"
  }
 },
 "nbformat": 4,
 "nbformat_minor": 5
}
